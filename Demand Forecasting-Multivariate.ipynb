{
 "cells": [
  {
   "cell_type": "code",
   "execution_count": 1,
   "id": "42254307",
   "metadata": {},
   "outputs": [],
   "source": [
    "import warnings\n",
    "import itertools\n",
    "\n",
    "import pandas as pd\n",
    "import numpy as np\n",
    "\n",
    "#import statsmodels.api as sm\n",
    "import statsmodels.tsa.api as smt\n",
    "#import statsmodels.formula.api as smf\n",
    "\n",
    "import matplotlib.pyplot as plt\n",
    "%matplotlib inline"
   ]
  },
  {
   "cell_type": "code",
   "execution_count": 2,
   "id": "ad233b1b",
   "metadata": {},
   "outputs": [],
   "source": [
    "mkt_sales_data = pd.read_csv('sales-and-marketing.csv')\n"
   ]
  },
  {
   "cell_type": "code",
   "execution_count": 3,
   "id": "67dce5ef",
   "metadata": {},
   "outputs": [
    {
     "data": {
      "text/html": [
       "<div>\n",
       "<style scoped>\n",
       "    .dataframe tbody tr th:only-of-type {\n",
       "        vertical-align: middle;\n",
       "    }\n",
       "\n",
       "    .dataframe tbody tr th {\n",
       "        vertical-align: top;\n",
       "    }\n",
       "\n",
       "    .dataframe thead th {\n",
       "        text-align: right;\n",
       "    }\n",
       "</style>\n",
       "<table border=\"1\" class=\"dataframe\">\n",
       "  <thead>\n",
       "    <tr style=\"text-align: right;\">\n",
       "      <th></th>\n",
       "      <th>Tractor-Sales</th>\n",
       "      <th>Marketing Expense</th>\n",
       "    </tr>\n",
       "  </thead>\n",
       "  <tbody>\n",
       "    <tr>\n",
       "      <th>2011-01-01</th>\n",
       "      <td>397</td>\n",
       "      <td>486.64</td>\n",
       "    </tr>\n",
       "    <tr>\n",
       "      <th>2011-02-01</th>\n",
       "      <td>400</td>\n",
       "      <td>501.80</td>\n",
       "    </tr>\n",
       "    <tr>\n",
       "      <th>2011-03-01</th>\n",
       "      <td>498</td>\n",
       "      <td>437.09</td>\n",
       "    </tr>\n",
       "    <tr>\n",
       "      <th>2011-04-01</th>\n",
       "      <td>536</td>\n",
       "      <td>565.16</td>\n",
       "    </tr>\n",
       "    <tr>\n",
       "      <th>2011-05-01</th>\n",
       "      <td>596</td>\n",
       "      <td>744.15</td>\n",
       "    </tr>\n",
       "  </tbody>\n",
       "</table>\n",
       "</div>"
      ],
      "text/plain": [
       "            Tractor-Sales  Marketing Expense\n",
       "2011-01-01            397             486.64\n",
       "2011-02-01            400             501.80\n",
       "2011-03-01            498             437.09\n",
       "2011-04-01            536             565.16\n",
       "2011-05-01            596             744.15"
      ]
     },
     "execution_count": 3,
     "metadata": {},
     "output_type": "execute_result"
    }
   ],
   "source": [
    "mkt_sales_data.set_index(pd.date_range(start='2011-01-01', freq='MS', periods=len(mkt_sales_data)), inplace=True)\n",
    "mkt_sales_data.drop(['Time Period'], axis=1, inplace=True)\n",
    "mkt_sales_data.rename(columns={'Sales':'Tractor-Sales'}, inplace=True)\n",
    "mkt_sales_data.head(5)"
   ]
  },
  {
   "cell_type": "code",
   "execution_count": 4,
   "id": "40241c51",
   "metadata": {},
   "outputs": [
    {
     "name": "stdout",
     "output_type": "stream",
     "text": [
      "Results of Dickey-Fuller Test:\n",
      "Test Statistic                  1.434334\n",
      "p-value                         0.997265\n",
      "#lags Used                     10.000000\n",
      "Number of Observations Used    37.000000\n",
      "Critical Value (1%)            -3.620918\n",
      "Critical Value (5%)            -2.943539\n",
      "Critical Value (10%)           -2.610400\n",
      "dtype: float64\n"
     ]
    }
   ],
   "source": [
    "# Perform Dickey-Fuller test:\n",
    "from statsmodels.tsa.stattools import adfuller\n",
    "print('Results of Dickey-Fuller Test:')\n",
    "dftest = adfuller(mkt_sales_data['Tractor-Sales'])\n",
    "dfoutput = pd.Series(dftest[0:4], index=['Test Statistic', 'p-value', '#lags Used', 'Number of Observations Used'])\n",
    "for key, value in dftest[4].items():\n",
    "    dfoutput['Critical Value (%s)'%key] = value\n",
    "print(dfoutput)"
   ]
  },
  {
   "cell_type": "code",
   "execution_count": 5,
   "id": "026515ff",
   "metadata": {},
   "outputs": [],
   "source": [
    "mkt_sales_data_diff = mkt_sales_data.diff(periods=1)\n",
    "mkt_sales_data_diff.dropna(inplace=True)"
   ]
  },
  {
   "cell_type": "code",
   "execution_count": 6,
   "id": "2fbc3ec8",
   "metadata": {},
   "outputs": [
    {
     "name": "stdout",
     "output_type": "stream",
     "text": [
      "Results of Dickey-Fuller Test:\n",
      "Test Statistic                -7.015650e+00\n",
      "p-value                        6.743731e-10\n",
      "#lags Used                     1.000000e+01\n",
      "Number of Observations Used    3.600000e+01\n",
      "Critical Value (1%)           -3.626652e+00\n",
      "Critical Value (5%)           -2.945951e+00\n",
      "Critical Value (10%)          -2.611671e+00\n",
      "dtype: float64\n"
     ]
    }
   ],
   "source": [
    "from statsmodels.tsa.stattools import adfuller\n",
    "print('Results of Dickey-Fuller Test:')\n",
    "dftest = adfuller(mkt_sales_data_diff['Tractor-Sales'])\n",
    "dfoutput = pd.Series(dftest[0:4], index=['Test Statistic', 'p-value', '#lags Used', 'Number of Observations Used'])\n",
    "for key, value in dftest[4].items():\n",
    "    dfoutput['Critical Value (%s)'%key] = value\n",
    "print(dfoutput)"
   ]
  },
  {
   "cell_type": "code",
   "execution_count": 7,
   "id": "e79b7d7a",
   "metadata": {},
   "outputs": [],
   "source": [
    "mkt_sales_data['Mkt_Exp_Lag_1'] = mkt_sales_data['Marketing Expense'].shift(1)\n",
    "mkt_sales_data['Mkt_Exp_Lag_2'] = mkt_sales_data['Marketing Expense'].shift(2)\n",
    "mkt_sales_data['Mkt_Exp_Lag_3'] = mkt_sales_data['Marketing Expense'].shift(3)\n",
    "mkt_sales_data['Mkt_Exp_Lag_4'] = mkt_sales_data['Marketing Expense'].shift(4)"
   ]
  },
  {
   "cell_type": "code",
   "execution_count": 8,
   "id": "4cb67618",
   "metadata": {},
   "outputs": [],
   "source": [
    "import sys\n",
    "\n",
    "def auto_arima(timeseries, regressors=None, p=range(0, 2), d=range(0, 2), q=range(0, 2),\n",
    "              P=range(0, 2), D=range(0, 1), Q=range(0, 2)):\n",
    "\n",
    "    # Generate all different combinations of p, d and q triplets\n",
    "    pdq = list(itertools.product(p, d, q))\n",
    "\n",
    "    # Generate all different combinations of seasonal p, q and q triplets\n",
    "    seasonal_pdq = [(x[0], x[1], x[2], 12) for x in list(itertools.product(P, D, Q))]\n",
    "    \n",
    "    warnings.filterwarnings(\"ignore\") # specify to ignore warning messages\n",
    "\n",
    "    best_aic = np.inf\n",
    "    best_pdq = None\n",
    "    best_seasonal_pdq = None\n",
    "    best_results = None\n",
    "    \n",
    "    for param in pdq:\n",
    "        for param_seasonal in seasonal_pdq:\n",
    "\n",
    "            try:\n",
    "                temp_model = sm.tsa.statespace.SARIMAX(endog=timeseries,\n",
    "                                                 exog=regressors,\n",
    "                                                 order = param,\n",
    "                                                 seasonal_order = param_seasonal,\n",
    "                                                 enforce_stationarity=False,\n",
    "                                                 enforce_invertibility=False)\n",
    "                temp_results = temp_model.fit()\n",
    "\n",
    "                print(\"SARIMAX{}x{}12 - AIC:{}\".format(param, param_seasonal, temp_results.aic))\n",
    "                \n",
    "                if temp_results.aic < best_aic:\n",
    "                    best_aic = temp_results.aic\n",
    "                    best_pdq = param\n",
    "                    best_seasonal_pdq = param_seasonal\n",
    "                    best_results = temp_results\n",
    "                \n",
    "            except:\n",
    "                #print(\"Unexpected error:\", sys.exc_info()[0])\n",
    "                continue\n",
    "    print(\"Best SARIMAX{}x{}12 model - AIC:{}\".format(best_pdq, best_seasonal_pdq, best_aic))\n",
    "    print(best_results.summary().tables[0])\n",
    "    print(best_results.summary().tables[1])"
   ]
  },
  {
   "cell_type": "code",
   "execution_count": 9,
   "id": "756de4c2",
   "metadata": {},
   "outputs": [
    {
     "data": {
      "text/html": [
       "<div>\n",
       "<style scoped>\n",
       "    .dataframe tbody tr th:only-of-type {\n",
       "        vertical-align: middle;\n",
       "    }\n",
       "\n",
       "    .dataframe tbody tr th {\n",
       "        vertical-align: top;\n",
       "    }\n",
       "\n",
       "    .dataframe thead th {\n",
       "        text-align: right;\n",
       "    }\n",
       "</style>\n",
       "<table border=\"1\" class=\"dataframe\">\n",
       "  <thead>\n",
       "    <tr style=\"text-align: right;\">\n",
       "      <th></th>\n",
       "      <th>Tractor-Sales</th>\n",
       "      <th>Marketing Expense</th>\n",
       "      <th>Mkt_Exp_Lag_1</th>\n",
       "      <th>Mkt_Exp_Lag_2</th>\n",
       "      <th>Mkt_Exp_Lag_3</th>\n",
       "      <th>Mkt_Exp_Lag_4</th>\n",
       "    </tr>\n",
       "  </thead>\n",
       "  <tbody>\n",
       "    <tr>\n",
       "      <th>2011-05-01</th>\n",
       "      <td>596</td>\n",
       "      <td>744.15</td>\n",
       "      <td>565.16</td>\n",
       "      <td>437.09</td>\n",
       "      <td>501.80</td>\n",
       "      <td>486.64</td>\n",
       "    </tr>\n",
       "    <tr>\n",
       "      <th>2011-06-01</th>\n",
       "      <td>591</td>\n",
       "      <td>548.74</td>\n",
       "      <td>744.15</td>\n",
       "      <td>565.16</td>\n",
       "      <td>437.09</td>\n",
       "      <td>501.80</td>\n",
       "    </tr>\n",
       "    <tr>\n",
       "      <th>2011-07-01</th>\n",
       "      <td>651</td>\n",
       "      <td>650.21</td>\n",
       "      <td>548.74</td>\n",
       "      <td>744.15</td>\n",
       "      <td>565.16</td>\n",
       "      <td>437.09</td>\n",
       "    </tr>\n",
       "    <tr>\n",
       "      <th>2011-08-01</th>\n",
       "      <td>654</td>\n",
       "      <td>777.51</td>\n",
       "      <td>650.21</td>\n",
       "      <td>548.74</td>\n",
       "      <td>744.15</td>\n",
       "      <td>565.16</td>\n",
       "    </tr>\n",
       "    <tr>\n",
       "      <th>2011-09-01</th>\n",
       "      <td>509</td>\n",
       "      <td>547.11</td>\n",
       "      <td>777.51</td>\n",
       "      <td>650.21</td>\n",
       "      <td>548.74</td>\n",
       "      <td>744.15</td>\n",
       "    </tr>\n",
       "  </tbody>\n",
       "</table>\n",
       "</div>"
      ],
      "text/plain": [
       "            Tractor-Sales  Marketing Expense  Mkt_Exp_Lag_1  Mkt_Exp_Lag_2  \\\n",
       "2011-05-01            596             744.15         565.16         437.09   \n",
       "2011-06-01            591             548.74         744.15         565.16   \n",
       "2011-07-01            651             650.21         548.74         744.15   \n",
       "2011-08-01            654             777.51         650.21         548.74   \n",
       "2011-09-01            509             547.11         777.51         650.21   \n",
       "\n",
       "            Mkt_Exp_Lag_3  Mkt_Exp_Lag_4  \n",
       "2011-05-01         501.80         486.64  \n",
       "2011-06-01         437.09         501.80  \n",
       "2011-07-01         565.16         437.09  \n",
       "2011-08-01         744.15         565.16  \n",
       "2011-09-01         548.74         744.15  "
      ]
     },
     "execution_count": 9,
     "metadata": {},
     "output_type": "execute_result"
    }
   ],
   "source": [
    "mkt_sales_data.dropna(inplace=True)\n",
    "mkt_sales_data.head()"
   ]
  },
  {
   "cell_type": "code",
   "execution_count": 11,
   "id": "4ed14997",
   "metadata": {},
   "outputs": [
    {
     "data": {
      "text/plain": [
       "statsmodels.tsa.statespace.sarimax.SARIMAX"
      ]
     },
     "execution_count": 11,
     "metadata": {},
     "output_type": "execute_result"
    }
   ],
   "source": [
    "import statsmodels.api as sm\n",
    "sm.tsa.statespace.SARIMAX"
   ]
  },
  {
   "cell_type": "code",
   "execution_count": 12,
   "id": "72371dfd",
   "metadata": {},
   "outputs": [
    {
     "name": "stdout",
     "output_type": "stream",
     "text": [
      "SARIMAX(0, 0, 0)x(0, 0, 0, 12)12 - AIC:510.8225704985192\n",
      "SARIMAX(0, 0, 0)x(0, 0, 1, 12)12 - AIC:1279.5171729685708\n",
      "SARIMAX(0, 0, 0)x(1, 0, 0, 12)12 - AIC:310.03587577875646\n",
      "SARIMAX(0, 0, 0)x(1, 0, 1, 12)12 - AIC:1018.1486820825298\n",
      "SARIMAX(0, 0, 1)x(0, 0, 0, 12)12 - AIC:486.8111334845112\n",
      "SARIMAX(0, 0, 1)x(0, 0, 1, 12)12 - AIC:2094.2328682259167\n",
      "SARIMAX(0, 0, 1)x(1, 0, 0, 12)12 - AIC:306.1385210676917\n",
      "SARIMAX(0, 0, 1)x(1, 0, 1, 12)12 - AIC:2151.1561012456777\n",
      "SARIMAX(0, 1, 0)x(0, 0, 0, 12)12 - AIC:488.13235101891337\n",
      "SARIMAX(0, 1, 0)x(0, 0, 1, 12)12 - AIC:1072.6883279335113\n",
      "SARIMAX(0, 1, 0)x(1, 0, 0, 12)12 - AIC:298.7640151982344\n",
      "SARIMAX(0, 1, 0)x(1, 0, 1, 12)12 - AIC:291.5787966022076\n",
      "SARIMAX(0, 1, 1)x(0, 0, 0, 12)12 - AIC:474.62197275481645\n",
      "SARIMAX(0, 1, 1)x(0, 0, 1, 12)12 - AIC:1398.1311894489218\n",
      "SARIMAX(0, 1, 1)x(1, 0, 0, 12)12 - AIC:289.71267963159767\n",
      "SARIMAX(0, 1, 1)x(1, 0, 1, 12)12 - AIC:273.4843871799599\n",
      "SARIMAX(1, 0, 0)x(0, 0, 0, 12)12 - AIC:499.88478513721986\n",
      "SARIMAX(1, 0, 0)x(0, 0, 1, 12)12 - AIC:1412.2853838322756\n",
      "SARIMAX(1, 0, 0)x(1, 0, 0, 12)12 - AIC:291.89740394665836\n",
      "SARIMAX(1, 0, 0)x(1, 0, 1, 12)12 - AIC:1263.592054963373\n",
      "SARIMAX(1, 0, 1)x(0, 0, 0, 12)12 - AIC:490.4010842061256\n",
      "SARIMAX(1, 0, 1)x(0, 0, 1, 12)12 - AIC:1244.7680133769586\n",
      "SARIMAX(1, 0, 1)x(1, 0, 0, 12)12 - AIC:285.4551551753287\n",
      "SARIMAX(1, 0, 1)x(1, 0, 1, 12)12 - AIC:1230.4583820040507\n",
      "SARIMAX(1, 1, 0)x(0, 0, 0, 12)12 - AIC:489.3520350760586\n",
      "SARIMAX(1, 1, 0)x(0, 0, 1, 12)12 - AIC:1471.3790263582641\n",
      "SARIMAX(1, 1, 0)x(1, 0, 0, 12)12 - AIC:282.2952402191526\n",
      "SARIMAX(1, 1, 0)x(1, 0, 1, 12)12 - AIC:283.54891538035776\n",
      "SARIMAX(1, 1, 1)x(0, 0, 0, 12)12 - AIC:473.6391490959191\n",
      "SARIMAX(1, 1, 1)x(0, 0, 1, 12)12 - AIC:2106.043934920879\n",
      "SARIMAX(1, 1, 1)x(1, 0, 0, 12)12 - AIC:282.37645252521855\n",
      "SARIMAX(1, 1, 1)x(1, 0, 1, 12)12 - AIC:278.8071728576458\n",
      "Best SARIMAX(0, 1, 1)x(1, 0, 1, 12)12 model - AIC:273.4843871799599\n",
      "                                     SARIMAX Results                                      \n",
      "==========================================================================================\n",
      "Dep. Variable:                      Tractor-Sales   No. Observations:                   44\n",
      "Model:             SARIMAX(0, 1, 1)x(1, 0, 1, 12)   Log Likelihood                -129.742\n",
      "Date:                            Thu, 10 Mar 2022   AIC                            273.484\n",
      "Time:                                    15:53:22   BIC                            283.055\n",
      "Sample:                                05-01-2011   HQIC                           276.482\n",
      "                                     - 12-01-2014                                         \n",
      "Covariance Type:                              opg                                         \n",
      "==========================================================================================\n",
      "=====================================================================================\n",
      "                        coef    std err          z      P>|z|      [0.025      0.975]\n",
      "-------------------------------------------------------------------------------------\n",
      "Marketing Expense     0.0287      0.045      0.640      0.522      -0.059       0.117\n",
      "Mkt_Exp_Lag_1        -0.0202      0.047     -0.430      0.667      -0.112       0.072\n",
      "Mkt_Exp_Lag_2        -0.0195      0.031     -0.636      0.525      -0.079       0.041\n",
      "ma.L1                -0.6043      0.194     -3.114      0.002      -0.985      -0.224\n",
      "ar.S.L12              1.1182      0.049     22.978      0.000       1.023       1.214\n",
      "ma.S.L12             -2.2080      2.668     -0.828      0.408      -7.437       3.021\n",
      "sigma2               84.2964    184.931      0.456      0.649    -278.161     446.754\n",
      "=====================================================================================\n"
     ]
    }
   ],
   "source": [
    "timeseries = mkt_sales_data[\"Tractor-Sales\"]\n",
    "regressors = mkt_sales_data[[\"Marketing Expense\", \"Mkt_Exp_Lag_1\", \"Mkt_Exp_Lag_2\"]]\n",
    "best_results = auto_arima(timeseries, regressors, p=range(0, 2), d=range(0, 2), q=range(0, 2),\n",
    "                         P=range(0, 2), D=range(0, 1), Q=range(0, 2))"
   ]
  },
  {
   "cell_type": "code",
   "execution_count": 13,
   "id": "e3c64c38",
   "metadata": {},
   "outputs": [],
   "source": [
    "best_model = sm.tsa.statespace.SARIMAX(timeseries,\n",
    "                                      exog = regressors,\n",
    "                                      order=(1, 1, 0),\n",
    "                                      seasonal_order=(1, 0, 0, 12),\n",
    "                                      enforce_stationarity=False,\n",
    "                                      enforce_invertibility=False)\n",
    "best_results = best_model.fit()"
   ]
  },
  {
   "cell_type": "code",
   "execution_count": 14,
   "id": "024a3bf0",
   "metadata": {},
   "outputs": [
    {
     "name": "stdout",
     "output_type": "stream",
     "text": [
      "                                     SARIMAX Results                                      \n",
      "==========================================================================================\n",
      "Dep. Variable:                      Tractor-Sales   No. Observations:                   44\n",
      "Model:             SARIMAX(1, 1, 0)x(1, 0, 0, 12)   Log Likelihood                -135.148\n",
      "Date:                            Thu, 10 Mar 2022   AIC                            282.295\n",
      "Time:                                    15:53:52   BIC                            290.702\n",
      "Sample:                                05-01-2011   HQIC                           284.985\n",
      "                                     - 12-01-2014                                         \n",
      "Covariance Type:                              opg                                         \n",
      "=====================================================================================\n",
      "                        coef    std err          z      P>|z|      [0.025      0.975]\n",
      "-------------------------------------------------------------------------------------\n",
      "Marketing Expense     0.0016      0.041      0.040      0.968      -0.080       0.083\n",
      "Mkt_Exp_Lag_1        -0.0167      0.049     -0.342      0.733      -0.113       0.079\n",
      "Mkt_Exp_Lag_2        -0.0480      0.038     -1.272      0.204      -0.122       0.026\n",
      "ar.L1                -0.5559      0.219     -2.540      0.011      -0.985      -0.127\n",
      "ar.S.L12              1.1234      0.065     17.290      0.000       0.996       1.251\n",
      "sigma2              479.1158    182.234      2.629      0.009     121.943     836.289\n",
      "===================================================================================\n",
      "Ljung-Box (L1) (Q):                   0.85   Jarque-Bera (JB):                 0.19\n",
      "Prob(Q):                              0.36   Prob(JB):                         0.91\n",
      "Heteroskedasticity (H):               1.88   Skew:                            -0.16\n",
      "Prob(H) (two-sided):                  0.34   Kurtosis:                         3.23\n",
      "===================================================================================\n",
      "\n",
      "Warnings:\n",
      "[1] Covariance matrix calculated using the outer product of gradients (complex-step).\n"
     ]
    }
   ],
   "source": [
    "print(best_results.summary())"
   ]
  },
  {
   "cell_type": "code",
   "execution_count": 15,
   "id": "bae2ad28",
   "metadata": {},
   "outputs": [
    {
     "data": {
      "text/plain": [
       "2014-01-01    532.391296\n",
       "2014-02-01    528.597679\n",
       "2014-03-01    641.437130\n",
       "2014-04-01    659.654420\n",
       "2014-05-01    782.822467\n",
       "2014-06-01    768.296017\n",
       "2014-07-01    858.327967\n",
       "2014-08-01    875.595195\n",
       "2014-09-01    649.548053\n",
       "2014-10-01    564.844682\n",
       "2014-11-01    537.329170\n",
       "2014-12-01    625.703257\n",
       "Freq: MS, Name: predicted_mean, dtype: float64"
      ]
     },
     "execution_count": 15,
     "metadata": {},
     "output_type": "execute_result"
    }
   ],
   "source": [
    "pred_dynamic = best_results.get_prediction(start=pd.to_datetime('2014-01-01'), full_results=True)\n",
    "\n",
    "pred_dynamic.predicted_mean"
   ]
  },
  {
   "cell_type": "code",
   "execution_count": 16,
   "id": "84136f49",
   "metadata": {},
   "outputs": [],
   "source": [
    "forecast = pred_dynamic.predicted_mean\n",
    "actual = mkt_sales_data['2014-01-01':]['Tractor-Sales']"
   ]
  },
  {
   "cell_type": "code",
   "execution_count": 17,
   "id": "8f133fed",
   "metadata": {},
   "outputs": [
    {
     "name": "stdout",
     "output_type": "stream",
     "text": [
      "The Mean Absolute percentage error of our forecast for last two years is 0.0327\n"
     ]
    }
   ],
   "source": [
    "MAPE_last1year = np.mean(np.abs(actual - forecast)/actual)\n",
    "\n",
    "print('The Mean Absolute percentage error of our forecast for last two years is {}'.format(round(MAPE_last1year, 4)))"
   ]
  },
  {
   "cell_type": "code",
   "execution_count": 18,
   "id": "f962632d",
   "metadata": {},
   "outputs": [
    {
     "name": "stdout",
     "output_type": "stream",
     "text": [
      "The Mean Squared Error of our forecasts is 678.4472\n",
      "The ROOT Mean Squared Error of our forecasts is 26.04701902329708\n"
     ]
    }
   ],
   "source": [
    "# Compute the mean square error\n",
    "mse = ((actual - forecast) ** 2).mean()\n",
    "print('The Mean Squared Error of our forecasts is {}'.format(round(mse, 4)))\n",
    "print('The ROOT Mean Squared Error of our forecasts is {}'.format(np.sqrt(round(mse, 4))))"
   ]
  },
  {
   "cell_type": "code",
   "execution_count": 19,
   "id": "b9bc8a40",
   "metadata": {},
   "outputs": [],
   "source": [
    "Future_mkt_spend = {\n",
    "    '2015-01-01' : [600, 559.75, 527.60],\n",
    "    '2015-02-01' : [550, 600, 559.75],\n",
    "    '2015-03-01' : [700, 550, 600],\n",
    "    '2015-04-01' : [590, 700, 550],\n",
    "    '2015-05-01' : [480, 590, 700],\n",
    "    '2015-06-01' : [520, 480, 590],\n",
    "    '2015-07-01' : [800, 520, 480],\n",
    "    '2015-08-01' : [675, 800, 520],\n",
    "    '2015-09-01' : [820, 675, 800],\n",
    "    '2015-10-01' : [710, 820, 675],\n",
    "    '2015-11-01' : [550, 710, 820],\n",
    "    '2015-12-01' : [590, 550, 710]\n",
    "}"
   ]
  },
  {
   "cell_type": "code",
   "execution_count": 20,
   "id": "b5107832",
   "metadata": {},
   "outputs": [],
   "source": [
    "Future_mkt_spend = pd.DataFrame(Future_mkt_spend).T"
   ]
  },
  {
   "cell_type": "code",
   "execution_count": 21,
   "id": "67882944",
   "metadata": {},
   "outputs": [],
   "source": [
    "Future_mkt_spend.columns = ['Marketing Expense', 'Mkt_Exp_Lag_1', 'Mkt_Exp_Lag_2']"
   ]
  },
  {
   "cell_type": "code",
   "execution_count": 22,
   "id": "f6074242",
   "metadata": {},
   "outputs": [
    {
     "data": {
      "text/plain": [
       "2015-01-01    562.280028\n",
       "2015-02-01    559.482882\n",
       "2015-03-01    628.947677\n",
       "2015-04-01    775.317137\n",
       "2015-05-01    863.217371\n",
       "2015-06-01    824.207622\n",
       "2015-07-01    978.246627\n",
       "2015-08-01    956.313071\n",
       "2015-09-01    705.383960\n",
       "2015-10-01    635.024933\n",
       "2015-11-01    553.749841\n",
       "2015-12-01    649.498407\n",
       "Freq: MS, Name: predicted_mean, dtype: float64"
      ]
     },
     "execution_count": 22,
     "metadata": {},
     "output_type": "execute_result"
    }
   ],
   "source": [
    "#Forecast for next 12 Months\n",
    "best_results.forecast(steps=12, exog=Future_mkt_spend)"
   ]
  },
  {
   "cell_type": "code",
   "execution_count": 23,
   "id": "3b92addb",
   "metadata": {},
   "outputs": [],
   "source": [
    "n_steps = 12\n",
    "pred_uc_99 = best_results.get_forecast(steps=12, alpha=0.01, exog=Future_mkt_spend) # alpha=0.01 signifies 99% confidence interval\n",
    "pred_uc_95 = best_results.get_forecast(steps=12, alpha=0.05, exog=Future_mkt_spend) # alpha=0.05 95% CI\n",
    "\n",
    "# Get confidence intervals 95% & 99% of the forecasts\n",
    "pred_ci_99 = pred_uc_99.conf_int()\n",
    "pred_ci_95 = pred_uc_95.conf_int()"
   ]
  },
  {
   "cell_type": "code",
   "execution_count": 24,
   "id": "3c7f9ac3",
   "metadata": {},
   "outputs": [
    {
     "data": {
      "text/html": [
       "<div>\n",
       "<style scoped>\n",
       "    .dataframe tbody tr th:only-of-type {\n",
       "        vertical-align: middle;\n",
       "    }\n",
       "\n",
       "    .dataframe tbody tr th {\n",
       "        vertical-align: top;\n",
       "    }\n",
       "\n",
       "    .dataframe thead th {\n",
       "        text-align: right;\n",
       "    }\n",
       "</style>\n",
       "<table border=\"1\" class=\"dataframe\">\n",
       "  <thead>\n",
       "    <tr style=\"text-align: right;\">\n",
       "      <th></th>\n",
       "      <th>forecast</th>\n",
       "      <th>lower_ci_95</th>\n",
       "      <th>upper_ci_95</th>\n",
       "      <th>lower_ci_99</th>\n",
       "      <th>upper_ci_99</th>\n",
       "    </tr>\n",
       "  </thead>\n",
       "  <tbody>\n",
       "    <tr>\n",
       "      <th>2014-12-01</th>\n",
       "      <td>562.280028</td>\n",
       "      <td>519.378935</td>\n",
       "      <td>605.181120</td>\n",
       "      <td>519.378935</td>\n",
       "      <td>605.181120</td>\n",
       "    </tr>\n",
       "    <tr>\n",
       "      <th>2015-01-01</th>\n",
       "      <td>559.482882</td>\n",
       "      <td>512.541393</td>\n",
       "      <td>606.424370</td>\n",
       "      <td>512.541393</td>\n",
       "      <td>606.424370</td>\n",
       "    </tr>\n",
       "    <tr>\n",
       "      <th>2015-02-01</th>\n",
       "      <td>628.947677</td>\n",
       "      <td>571.961449</td>\n",
       "      <td>685.933906</td>\n",
       "      <td>571.961449</td>\n",
       "      <td>685.933906</td>\n",
       "    </tr>\n",
       "    <tr>\n",
       "      <th>2015-03-01</th>\n",
       "      <td>775.317137</td>\n",
       "      <td>713.112295</td>\n",
       "      <td>837.521980</td>\n",
       "      <td>713.112295</td>\n",
       "      <td>837.521980</td>\n",
       "    </tr>\n",
       "    <tr>\n",
       "      <th>2015-04-01</th>\n",
       "      <td>863.217371</td>\n",
       "      <td>794.569086</td>\n",
       "      <td>931.865655</td>\n",
       "      <td>794.569086</td>\n",
       "      <td>931.865655</td>\n",
       "    </tr>\n",
       "  </tbody>\n",
       "</table>\n",
       "</div>"
      ],
      "text/plain": [
       "              forecast  lower_ci_95  upper_ci_95  lower_ci_99  upper_ci_99\n",
       "2014-12-01  562.280028   519.378935   605.181120   519.378935   605.181120\n",
       "2015-01-01  559.482882   512.541393   606.424370   512.541393   606.424370\n",
       "2015-02-01  628.947677   571.961449   685.933906   571.961449   685.933906\n",
       "2015-03-01  775.317137   713.112295   837.521980   713.112295   837.521980\n",
       "2015-04-01  863.217371   794.569086   931.865655   794.569086   931.865655"
      ]
     },
     "execution_count": 24,
     "metadata": {},
     "output_type": "execute_result"
    }
   ],
   "source": [
    "n_steps = 12\n",
    "idx = pd.date_range(mkt_sales_data.index[-1], periods=n_steps, freq='MS')\n",
    "fc_95 = pd.DataFrame(np.column_stack([pred_uc_95.predicted_mean, pred_ci_95]), \n",
    "                     index=idx, columns=['forecast', 'lower_ci_95', 'upper_ci_95'])\n",
    "\n",
    "fc_99 = pd.DataFrame(np.column_stack([pred_ci_99]), \n",
    "                     index=idx, columns=['lower_ci_99', 'upper_ci_99'])\n",
    "fc_all = fc_95.combine_first(fc_99)\n",
    "fc_all = fc_all[['forecast', 'lower_ci_95', 'upper_ci_95', 'lower_ci_99', 'upper_ci_99']] # just reordering columns\n",
    "fc_all.head()"
   ]
  },
  {
   "cell_type": "code",
   "execution_count": 25,
   "id": "ba1a6467",
   "metadata": {},
   "outputs": [
    {
     "data": {
      "image/png": "[encoded data removed]",
      "text/plain": [
       "<Figure size 1080x432 with 1 Axes>"
      ]
     },
     "metadata": {
      "needs_background": "light"
     },
     "output_type": "display_data"
    }
   ],
   "source": [
    "# plot the forecast along with the confidence band\n",
    "axis = mkt_sales_data['Tractor-Sales'].plot(label='Observed', figsize=(15, 6))\n",
    "fc_all['forecast'].plot(ax=axis, label='Forecast', alpha=0.7)\n",
    "#axis.fill_between(fc_all.index, fc_all['lower_ci_95'], fc_all['upper_ci_95'], color='k', alpha=.25)\n",
    "axis.fill_between(fc_all.index, fc_all['lower_ci_99'], fc_all['upper_ci_99'], color='k', alpha=.25)\n",
    "axis.set_xlabel('Years')\n",
    "axis.set_ylabel('Tractor Sales')\n",
    "plt.legend(loc='best')\n",
    "plt.show()"
   ]
  },
  {
   "cell_type": "code",
   "execution_count": 26,
   "id": "0fe7f162",
   "metadata": {},
   "outputs": [
    {
     "data": {
      "image/png": "[encoded data removed]",
      "text/plain": [
       "<Figure size 1152x864 with 4 Axes>"
      ]
     },
     "metadata": {
      "needs_background": "light"
     },
     "output_type": "display_data"
    }
   ],
   "source": [
    "best_results.plot_diagnostics(lags=24, figsize=(16,12))\n",
    "plt.show()"
   ]
  },
  {
   "cell_type": "code",
   "execution_count": null,
   "id": "c2b0cb99",
   "metadata": {},
   "outputs": [],
   "source": []
  }
 ],
 "metadata": {
  "kernelspec": {
   "display_name": "Python 3",
   "language": "python",
   "name": "python3"
  },
  "language_info": {
   "codemirror_mode": {
    "name": "ipython",
    "version": 3
   },
   "file_extension": ".py",
   "mimetype": "text/x-python",
   "name": "python",
   "nbconvert_exporter": "python",
   "pygments_lexer": "ipython3",
   "version": "3.8.8"
  }
 },
 "nbformat": 4,
 "nbformat_minor": 5
}
